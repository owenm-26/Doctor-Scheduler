{
 "cells": [
  {
   "cell_type": "code",
   "execution_count": 10,
   "metadata": {},
   "outputs": [],
   "source": [
    "import numpy as np"
   ]
  },
  {
   "cell_type": "code",
   "execution_count": 11,
   "metadata": {},
   "outputs": [],
   "source": [
    "pose_recording = np.load('../pose_movement.npy')"
   ]
  },
  {
   "cell_type": "code",
   "execution_count": 12,
   "metadata": {},
   "outputs": [
    {
     "data": {
      "text/plain": [
       "array([[ 0.47394523,  0.68984723, -0.58207202, ...,  0.42641419,\n",
       "         2.93974948,  0.28588292],\n",
       "       [ 0.47328705,  0.69172806, -0.58614212, ...,  0.40381378,\n",
       "         2.93456459, -0.07201494],\n",
       "       [ 0.47220689,  0.69391775, -0.6066432 , ...,  0.3888039 ,\n",
       "         2.93351269, -0.02447804],\n",
       "       ...,\n",
       "       [ 0.44558674,  0.69129294, -0.34785306, ...,  0.42234021,\n",
       "         3.06488681, -0.550156  ],\n",
       "       [ 0.44580221,  0.69237936, -0.3487238 , ...,  0.41556174,\n",
       "         3.06184125, -0.56212902],\n",
       "       [ 0.44940677,  0.69317371, -0.2415785 , ...,  0.41063461,\n",
       "         3.0351963 , -0.58741486]])"
      ]
     },
     "execution_count": 12,
     "metadata": {},
     "output_type": "execute_result"
    }
   ],
   "source": [
    "pose_recording"
   ]
  },
  {
   "cell_type": "code",
   "execution_count": null,
   "metadata": {},
   "outputs": [],
   "source": []
  }
 ],
 "metadata": {
  "kernelspec": {
   "display_name": "play",
   "language": "python",
   "name": "python3"
  },
  "language_info": {
   "codemirror_mode": {
    "name": "ipython",
    "version": 3
   },
   "file_extension": ".py",
   "mimetype": "text/x-python",
   "name": "python",
   "nbconvert_exporter": "python",
   "pygments_lexer": "ipython3",
   "version": "3.11.3"
  }
 },
 "nbformat": 4,
 "nbformat_minor": 2
}
